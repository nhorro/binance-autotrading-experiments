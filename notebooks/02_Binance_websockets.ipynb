{
 "cells": [
  {
   "cell_type": "markdown",
   "id": "be5a38ef-7fca-4ad5-965d-dc4515b03836",
   "metadata": {},
   "source": [
    "# Suscripción de datos de mercado de Binance en vivo  con websockets\n",
    "\n",
    "Nota. Actualmente este módulo no funciona en 1.0.15 y 1.0.16. [Issue en Github](https://github.com/sammchardy/python-binance/issues/1174)"
   ]
  },
  {
   "cell_type": "code",
   "execution_count": 1,
   "id": "389bc59a-d039-435b-9182-30c0d5960c0a",
   "metadata": {},
   "outputs": [],
   "source": [
    "%load_ext autoreload\n",
    "%autoreload 2"
   ]
  },
  {
   "cell_type": "code",
   "execution_count": 2,
   "id": "2230eb5c-f205-4899-91c4-365f21e3be6f",
   "metadata": {},
   "outputs": [
    {
     "name": "stdout",
     "output_type": "stream",
     "text": [
      "python-binance                     1.0.16\n"
     ]
    }
   ],
   "source": [
    "#!pip install --upgrade python-binance dateparser mplfinance\n",
    "!pip list | grep python-binance"
   ]
  },
  {
   "cell_type": "code",
   "execution_count": 3,
   "id": "eab6d8b3-405e-48d6-8cd4-cc461fb7a95f",
   "metadata": {},
   "outputs": [],
   "source": [
    "import json\n",
    "import os\n",
    "\n",
    "assert os.path.exists(\"secrets.json\"), \"Se debe proveer un archivo JSON con los parámetros de conexión a la API de Binance\"\n",
    "with open(\"secrets.json\",\"r\") as fp:\n",
    "    secrets = json.load(fp)"
   ]
  },
  {
   "cell_type": "code",
   "execution_count": 4,
   "id": "026bfbc3-e76e-40dc-abd7-4ff3735346f3",
   "metadata": {},
   "outputs": [],
   "source": [
    "import time\n",
    "from binance import ThreadedWebsocketManager"
   ]
  },
  {
   "cell_type": "code",
   "execution_count": null,
   "id": "c2a27393-b70b-4f49-839e-10ede2299936",
   "metadata": {},
   "outputs": [
    {
     "name": "stdout",
     "output_type": "stream",
     "text": [
      "Starting\n",
      "Monitoring\n"
     ]
    },
    {
     "name": "stderr",
     "output_type": "stream",
     "text": [
      "Task exception was never retrieved\n",
      "future: <Task finished name='Task-5' coro=<ThreadedApiManager.start_listener() done, defined at /home/nhorro/anaconda3/lib/python3.8/site-packages/binance/threaded_stream.py:42> exception=RuntimeError(\"Task <Task pending name='Task-11' coro=<Queue.get() running at /home/nhorro/anaconda3/lib/python3.8/asyncio/queues.py:163> cb=[_release_waiter(<Future pendi...10e10a370>()]>)() at /home/nhorro/anaconda3/lib/python3.8/asyncio/tasks.py:429]> got Future <Future pending> attached to a different loop\")>\n",
      "Traceback (most recent call last):\n",
      "  File \"/home/nhorro/anaconda3/lib/python3.8/site-packages/binance/threaded_stream.py\", line 46, in start_listener\n",
      "    msg = await asyncio.wait_for(s.recv(), 3)\n",
      "  File \"/home/nhorro/anaconda3/lib/python3.8/asyncio/tasks.py\", line 494, in wait_for\n",
      "    return fut.result()\n",
      "  File \"/home/nhorro/anaconda3/lib/python3.8/site-packages/binance/streams.py\", line 197, in recv\n",
      "    res = await asyncio.wait_for(self._queue.get(), timeout=self.TIMEOUT)\n",
      "  File \"/home/nhorro/anaconda3/lib/python3.8/asyncio/tasks.py\", line 494, in wait_for\n",
      "    return fut.result()\n",
      "  File \"/home/nhorro/anaconda3/lib/python3.8/asyncio/queues.py\", line 163, in get\n",
      "    await getter\n",
      "RuntimeError: Task <Task pending name='Task-11' coro=<Queue.get() running at /home/nhorro/anaconda3/lib/python3.8/asyncio/queues.py:163> cb=[_release_waiter(<Future pendi...10e10a370>()]>)() at /home/nhorro/anaconda3/lib/python3.8/asyncio/tasks.py:429]> got Future <Future pending> attached to a different loop\n"
     ]
    },
    {
     "name": "stdout",
     "output_type": "stream",
     "text": [
      "Stoping\n"
     ]
    }
   ],
   "source": [
    "class BinanceWebSocketSuscriber:\n",
    "    def __init__(self,api_key,secret_key):\n",
    "        self.twm = ThreadedWebsocketManager(api_key,secret_key)\n",
    "    \n",
    "    def handle_socket_message(self,msg):\n",
    "        print(f\"message type: {msg['e']}\")\n",
    "        print(msg)\n",
    "    \n",
    "    def start(self,symbol):\n",
    "        # start is required to initialise its internal loop\n",
    "        self.twm.start()\n",
    "        self.twm.start_kline_socket(callback=self.handle_socket_message, symbol=symbol)\n",
    "    \n",
    "    def stop(self):\n",
    "        #self.twm.stop()\n",
    "        self.twm.join()\n",
    "        \n",
    "sub = BinanceWebSocketSuscriber(secrets[\"binance\"][\"api_key\"], secrets[\"binance\"][\"secret_key\"])\n",
    "\n",
    "print(\"Starting\")\n",
    "sub.start('BTCUSD')\n",
    "print(\"Monitoring\")\n",
    "time.sleep(5)\n",
    "print(\"Stoping\")\n",
    "sub.stop()"
   ]
  }
 ],
 "metadata": {
  "kernelspec": {
   "display_name": "Python 3",
   "language": "python",
   "name": "python3"
  },
  "language_info": {
   "codemirror_mode": {
    "name": "ipython",
    "version": 3
   },
   "file_extension": ".py",
   "mimetype": "text/x-python",
   "name": "python",
   "nbconvert_exporter": "python",
   "pygments_lexer": "ipython3",
   "version": "3.8.8"
  }
 },
 "nbformat": 4,
 "nbformat_minor": 5
}
