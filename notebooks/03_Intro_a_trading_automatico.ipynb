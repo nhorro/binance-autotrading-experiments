{
 "cells": [
  {
   "cell_type": "markdown",
   "id": "00949c52-9483-403e-b72a-cf9b4d9d2f4b",
   "metadata": {},
   "source": [
    "# Introducción al trading automático con Binance API (WIP)\n",
    "\n",
    "**Recursos y enlaces de interés**\n",
    "\n",
    "- [zipline](https://github.com/quantopian/zipline): Biblioteca en Python para trading automático y backtesting."
   ]
  },
  {
   "cell_type": "code",
   "execution_count": 1,
   "id": "dbe6f133-8d8f-4548-bb8f-3f93333e0f1e",
   "metadata": {},
   "outputs": [],
   "source": [
    "%load_ext autoreload\n",
    "%autoreload 2"
   ]
  }
 ],
 "metadata": {
  "kernelspec": {
   "display_name": "Python 3",
   "language": "python",
   "name": "python3"
  },
  "language_info": {
   "codemirror_mode": {
    "name": "ipython",
    "version": 3
   },
   "file_extension": ".py",
   "mimetype": "text/x-python",
   "name": "python",
   "nbconvert_exporter": "python",
   "pygments_lexer": "ipython3",
   "version": "3.8.8"
  }
 },
 "nbformat": 4,
 "nbformat_minor": 5
}
