{
 "cells": [
  {
   "cell_type": "markdown",
   "id": "84e487ae-b337-4aaf-97c8-628ed73e9cae",
   "metadata": {},
   "source": [
    "# Introducción al análisis técnico con Binance API\n",
    "\n",
    "Este cuaderno introduce el uso de Binance API para obtener precios de activos, y el cómputo de indicadores de análisis técnico.\n",
    "\n",
    "**Contenido**\n",
    "\n",
    "1. Uso básico de cliente [python-binance](https://python-binance.readthedocs.io).\n",
    "    - Consulta de precios de activos.\n",
    "    - Descarga de series temporales con datos históricos.\n",
    "2. Visualización de gráficos de velas con [Matplotlib Finance](https://github.com/matplotlib/mplfinance).\n",
    "3. Obtención y visualización de algunos indicadores de análisis técnico con [Technical Analysis Library in Python](https://github.com/bukosabino/ta).\n",
    "\n",
    "**Recursos y enlaces de interés**\n",
    "\n",
    "- [TA-Lib - Python Technical Analysis Library](https://github.com/mrjbq7/ta-lib)\n",
    "- [API Dólar Argentina](https://github.com/Castrogiovanni20/api-dolar-argentina): API REST en Heroku con cotización de dólar oficial, blue, etc.."
   ]
  },
  {
   "cell_type": "code",
   "execution_count": 1,
   "id": "5d799cb2-8f6b-45da-83c2-dc2ab7cd711a",
   "metadata": {},
   "outputs": [],
   "source": [
    "%load_ext autoreload\n",
    "%autoreload 2"
   ]
  },
  {
   "cell_type": "code",
   "execution_count": 2,
   "id": "b875112f-ba2e-413c-91c4-98993bf57c71",
   "metadata": {},
   "outputs": [],
   "source": [
    "import pandas as pd\n",
    "from datetime import datetime, timedelta,timezone\n",
    "import time\n",
    "\n",
    "import matplotlib.pyplot as plt\n",
    "import seaborn as sns\n",
    "sns.set()"
   ]
  },
  {
   "cell_type": "markdown",
   "id": "63cede3d-ff4a-449c-9a5a-392b9b914be9",
   "metadata": {},
   "source": [
    "## Conexión con cliente binance"
   ]
  },
  {
   "cell_type": "code",
   "execution_count": 3,
   "id": "4a4ff068-a02c-47c4-ba66-b61ac9e44eac",
   "metadata": {},
   "outputs": [
    {
     "name": "stdout",
     "output_type": "stream",
     "text": [
      "python-binance                     1.0.16\n"
     ]
    }
   ],
   "source": [
    "#!pip install --upgrade python-binance dateparser mplfinance\n",
    "!pip list | grep python-binance"
   ]
  },
  {
   "cell_type": "code",
   "execution_count": 4,
   "id": "d46b75de-b54d-4dfb-b529-0e14dcfaa4ce",
   "metadata": {},
   "outputs": [],
   "source": [
    "import json\n",
    "import os\n",
    "\n",
    "assert os.path.exists(\"secrets.json\"), \"Se debe proveer un archivo JSON con los parámetros de conexión a la API de Binance\"\n",
    "with open(\"secrets.json\",\"r\") as fp:\n",
    "    secrets = json.load(fp)"
   ]
  },
  {
   "cell_type": "code",
   "execution_count": 5,
   "id": "34ee51a4-80b0-4e5f-b0c2-2ef921bfcfc2",
   "metadata": {},
   "outputs": [],
   "source": [
    "import binance\n",
    "from binance import Client\n",
    "\n",
    "client = Client(secrets[\"binance\"][\"api_key\"], secrets[\"binance\"][\"secret_key\"])"
   ]
  },
  {
   "cell_type": "markdown",
   "id": "1fed3176-2500-43db-8dbb-be86ef6bb6e4",
   "metadata": {},
   "source": [
    "Obtener status del servidor."
   ]
  },
  {
   "cell_type": "code",
   "execution_count": 6,
   "id": "d47bae79-dd25-497d-b4fd-94027a7ddea7",
   "metadata": {},
   "outputs": [
    {
     "data": {
      "text/plain": [
       "{'status': 0, 'msg': 'normal'}"
      ]
     },
     "execution_count": 6,
     "metadata": {},
     "output_type": "execute_result"
    }
   ],
   "source": [
    "status = client.get_system_status()\n",
    "status"
   ]
  },
  {
   "cell_type": "markdown",
   "id": "a3411a77-4f2d-4d74-a960-e5461d51cca0",
   "metadata": {},
   "source": [
    "Obtener timestamp de server (ms)."
   ]
  },
  {
   "cell_type": "code",
   "execution_count": 7,
   "id": "8595973a-8001-403a-8d2f-1bcc5bcb5c24",
   "metadata": {},
   "outputs": [
    {
     "data": {
      "text/plain": [
       "{'serverTime': 1656885664359}"
      ]
     },
     "execution_count": 7,
     "metadata": {},
     "output_type": "execute_result"
    }
   ],
   "source": [
    "time_res = client.get_server_time()\n",
    "time_res"
   ]
  },
  {
   "cell_type": "markdown",
   "id": "1f6e2331-048b-4ba3-aa10-542f73cf933b",
   "metadata": {},
   "source": [
    "Aparentemente todas las consultas a la API y operaciones se hacen con tiempo UTC, que se provee como un texto ISO. Por lo tanto, recordar hacer las conversiones para representar con hora local (+- 3)."
   ]
  },
  {
   "cell_type": "code",
   "execution_count": 8,
   "id": "9b6b8c8f-f18d-40ff-b9d3-5c3d8c4ee9f4",
   "metadata": {},
   "outputs": [
    {
     "data": {
      "text/plain": [
       "Timestamp('2022-07-03 22:01:04.359000+0000', tz='UTC')"
      ]
     },
     "execution_count": 8,
     "metadata": {},
     "output_type": "execute_result"
    }
   ],
   "source": [
    "server_datetime_utc = pd.to_datetime(time_res['serverTime'], unit='ms', utc=True)\n",
    "server_datetime_utc"
   ]
  },
  {
   "cell_type": "markdown",
   "id": "6710a2c6-e23c-4034-88dc-902d264f0c37",
   "metadata": {},
   "source": [
    "Nota. Esto se puede manejar mejor desde Python con TZ, ver después."
   ]
  },
  {
   "cell_type": "code",
   "execution_count": 9,
   "id": "05920773-6e09-43dc-8906-fa7727409111",
   "metadata": {},
   "outputs": [
    {
     "data": {
      "text/plain": [
       "Timestamp('2022-07-03 19:01:04.359000+0000', tz='UTC')"
      ]
     },
     "execution_count": 9,
     "metadata": {},
     "output_type": "execute_result"
    }
   ],
   "source": [
    "server_datetime_arg = server_datetime_utc - pd.Timedelta(hours=3)\n",
    "server_datetime_arg"
   ]
  },
  {
   "cell_type": "markdown",
   "id": "3de567d1-5522-45c0-9b9d-1e465ac71b3a",
   "metadata": {},
   "source": [
    "## Consulta de activos y precios"
   ]
  },
  {
   "cell_type": "markdown",
   "id": "d832fb87-fac2-4739-9b3c-4c0b4962419a",
   "metadata": {},
   "source": [
    "Obtener lista de precios de todos los activos.\n",
    "\n",
    "- `bidPrice`: precio de venta.\n",
    "- `askPrice`: precio de compra.\n",
    "- `bidQty`: volumen de oferta? Unidad?\n",
    "- `askQty`: volumen de demanda? Unidad?"
   ]
  },
  {
   "cell_type": "code",
   "execution_count": 10,
   "id": "0fc301aa-21f0-4736-93f6-af77a113ddb0",
   "metadata": {},
   "outputs": [
    {
     "data": {
      "text/html": [
       "<div>\n",
       "<style scoped>\n",
       "    .dataframe tbody tr th:only-of-type {\n",
       "        vertical-align: middle;\n",
       "    }\n",
       "\n",
       "    .dataframe tbody tr th {\n",
       "        vertical-align: top;\n",
       "    }\n",
       "\n",
       "    .dataframe thead th {\n",
       "        text-align: right;\n",
       "    }\n",
       "</style>\n",
       "<table border=\"1\" class=\"dataframe\">\n",
       "  <thead>\n",
       "    <tr style=\"text-align: right;\">\n",
       "      <th></th>\n",
       "      <th>symbol</th>\n",
       "      <th>bidPrice</th>\n",
       "      <th>bidQty</th>\n",
       "      <th>askPrice</th>\n",
       "      <th>askQty</th>\n",
       "    </tr>\n",
       "  </thead>\n",
       "  <tbody>\n",
       "    <tr>\n",
       "      <th>0</th>\n",
       "      <td>ETHBTC</td>\n",
       "      <td>0.05577200</td>\n",
       "      <td>0.73840000</td>\n",
       "      <td>0.05578100</td>\n",
       "      <td>11.75980000</td>\n",
       "    </tr>\n",
       "    <tr>\n",
       "      <th>1</th>\n",
       "      <td>LTCBTC</td>\n",
       "      <td>0.00263900</td>\n",
       "      <td>9.40900000</td>\n",
       "      <td>0.00264000</td>\n",
       "      <td>19.84600000</td>\n",
       "    </tr>\n",
       "    <tr>\n",
       "      <th>2</th>\n",
       "      <td>BNBBTC</td>\n",
       "      <td>0.01135100</td>\n",
       "      <td>3.89200000</td>\n",
       "      <td>0.01135200</td>\n",
       "      <td>0.00900000</td>\n",
       "    </tr>\n",
       "    <tr>\n",
       "      <th>3</th>\n",
       "      <td>NEOBTC</td>\n",
       "      <td>0.00042800</td>\n",
       "      <td>1334.36000000</td>\n",
       "      <td>0.00042900</td>\n",
       "      <td>89.27000000</td>\n",
       "    </tr>\n",
       "    <tr>\n",
       "      <th>4</th>\n",
       "      <td>QTUMETH</td>\n",
       "      <td>0.00262000</td>\n",
       "      <td>113.30000000</td>\n",
       "      <td>0.00263200</td>\n",
       "      <td>33.60000000</td>\n",
       "    </tr>\n",
       "  </tbody>\n",
       "</table>\n",
       "</div>"
      ],
      "text/plain": [
       "    symbol    bidPrice         bidQty    askPrice       askQty\n",
       "0   ETHBTC  0.05577200     0.73840000  0.05578100  11.75980000\n",
       "1   LTCBTC  0.00263900     9.40900000  0.00264000  19.84600000\n",
       "2   BNBBTC  0.01135100     3.89200000  0.01135200   0.00900000\n",
       "3   NEOBTC  0.00042800  1334.36000000  0.00042900  89.27000000\n",
       "4  QTUMETH  0.00262000   113.30000000  0.00263200  33.60000000"
      ]
     },
     "execution_count": 10,
     "metadata": {},
     "output_type": "execute_result"
    }
   ],
   "source": [
    "tickers = client.get_orderbook_tickers()\n",
    "df_tickers = pd.DataFrame(tickers)\n",
    "df_tickers.head()"
   ]
  },
  {
   "cell_type": "code",
   "execution_count": 11,
   "id": "38625966-cfbd-42b2-a408-25ccc21b841e",
   "metadata": {},
   "outputs": [
    {
     "name": "stdout",
     "output_type": "stream",
     "text": [
      "Cantidad de activos: 2073\n"
     ]
    }
   ],
   "source": [
    "print(\"Cantidad de activos:\",len(df_tickers.symbol.unique()))"
   ]
  },
  {
   "cell_type": "markdown",
   "id": "240a65d6-01e1-4503-a01d-70b3e27a9c6e",
   "metadata": {},
   "source": [
    "Obtener el precio actual de un activo."
   ]
  },
  {
   "cell_type": "code",
   "execution_count": 12,
   "id": "890b67c7-42c4-4f43-b8aa-57b534dc5df5",
   "metadata": {},
   "outputs": [
    {
     "data": {
      "text/html": [
       "<div>\n",
       "<style scoped>\n",
       "    .dataframe tbody tr th:only-of-type {\n",
       "        vertical-align: middle;\n",
       "    }\n",
       "\n",
       "    .dataframe tbody tr th {\n",
       "        vertical-align: top;\n",
       "    }\n",
       "\n",
       "    .dataframe thead th {\n",
       "        text-align: right;\n",
       "    }\n",
       "</style>\n",
       "<table border=\"1\" class=\"dataframe\">\n",
       "  <thead>\n",
       "    <tr style=\"text-align: right;\">\n",
       "      <th></th>\n",
       "      <th>symbol</th>\n",
       "      <th>bidPrice</th>\n",
       "      <th>bidQty</th>\n",
       "      <th>askPrice</th>\n",
       "      <th>askQty</th>\n",
       "    </tr>\n",
       "  </thead>\n",
       "  <tbody>\n",
       "    <tr>\n",
       "      <th>11</th>\n",
       "      <td>BTCUSDT</td>\n",
       "      <td>19308.99000000</td>\n",
       "      <td>2.05037000</td>\n",
       "      <td>19309.00000000</td>\n",
       "      <td>0.69567000</td>\n",
       "    </tr>\n",
       "  </tbody>\n",
       "</table>\n",
       "</div>"
      ],
      "text/plain": [
       "     symbol        bidPrice      bidQty        askPrice      askQty\n",
       "11  BTCUSDT  19308.99000000  2.05037000  19309.00000000  0.69567000"
      ]
     },
     "execution_count": 12,
     "metadata": {},
     "output_type": "execute_result"
    }
   ],
   "source": [
    "df_tickers[df_tickers.symbol=='BTCUSDT']"
   ]
  },
  {
   "cell_type": "markdown",
   "id": "1fd621e9-2af8-4e6e-ac49-eb80d70a379e",
   "metadata": {},
   "source": [
    "Opcional: convertir a AR$ con la cotización actual del dólar oficial, utilizando el precio de venta."
   ]
  },
  {
   "cell_type": "code",
   "execution_count": null,
   "id": "dfeff1b6-c180-40c6-b65e-4032cf2a4584",
   "metadata": {},
   "outputs": [],
   "source": [
    "import requests\n",
    "usdt_in_ars_sell_price = float(requests.get(\"https://api-dolar-argentina.herokuapp.com/api/dolaroficial\").json()['venta'])\n",
    "usdt_in_ars_sell_price"
   ]
  },
  {
   "cell_type": "code",
   "execution_count": null,
   "id": "3920f179-7bf6-4dc3-bddd-dc5c2b384f95",
   "metadata": {},
   "outputs": [],
   "source": [
    "btc_price_usd = float(df_tickers[df_tickers.symbol=='BTCUSDT'].askPrice)\n",
    "btc_price_usd"
   ]
  },
  {
   "cell_type": "code",
   "execution_count": null,
   "id": "11721fe2-22fd-4eb8-81b0-9b1e9852abe5",
   "metadata": {},
   "outputs": [],
   "source": [
    "print(\"Precio actual aproximado del BTC en AR$: {:,.3f}\".format(btc_price_usd*usdt_in_ars_sell_price))"
   ]
  },
  {
   "cell_type": "markdown",
   "id": "8b77b259-0215-4cd6-b5e3-5586dcfb78f0",
   "metadata": {},
   "source": [
    "## Análisis de datos históricos\n",
    "\n",
    "Se pueden descargar las series temporales con datos históricos de un activo para generar un [gráfico OHLCV](https://www.investopedia.com/terms/o/ohlcchart.asp#:~:text=An%20OHLC%20chart%20shows%20the,structure%20is%20called%20a%20bar) (acrónimo de *Open, High, Low, Close, Volume*). \n",
    "\n",
    "Un gráfico OHLCV es un tipo de gráfico que contiene:\n",
    "\n",
    "- **Open**: precio del activo en el momento de apertura. En el caso de BTC/USDT, se toma el precio en U$S.\n",
    "- **Close**: precio del activo en el momento de cierre. Para muchos traders, este es el indicador más relevante.\n",
    "- **High**: precio máximo que tomó el activo.\n",
    "- **Low**: precio mínimo que tomó el activo.\n",
    "- **Volume**: volumen de operaciones. ¿Cómo se obtiene? ¿Es el número de órdenes por el monto promedio de cada una?"
   ]
  },
  {
   "cell_type": "markdown",
   "id": "35de7bd1-9621-42f0-91b3-e098c44a4f0f",
   "metadata": {},
   "source": [
    "### Consulta y descarga de datos\n",
    "\n",
    "Parámetros:\n",
    "\n",
    "- `SYMBOL`: nombre del activo.\n",
    "- `INTERVAL`: intervalo entre muestras: minuto, hora o diario.\n",
    "- `start_date`: fecha y hora inicial en formato ISO.\n",
    "- `end_date`: fecha y hora final en formato ISO. Si se omite se usa la actual.\n",
    "\n",
    "**Nota**: el máximo de muestras que retorna binance es 1000. Aparentemente no hace una agregación automática, por lo que si se solicita un intervalo entre muestras muy chico y ventana muy grande, la serie obtenida puede estar incompleta."
   ]
  },
  {
   "cell_type": "code",
   "execution_count": null,
   "id": "b884a2e6-9dc5-4a27-bf62-f11949abe191",
   "metadata": {},
   "outputs": [],
   "source": [
    "# Ejemplo: tomar como inicio el 2022-06-30 a las 22hs  hora argentina.\n",
    "start_date = datetime.fromisoformat(\"2022-06-30T22:00:00\") + timedelta(hours=3) # El +3 es para convertir a UTC \n",
    "end_date = start_date + timedelta(days=3)\n",
    "start_date, end_date"
   ]
  },
  {
   "cell_type": "code",
   "execution_count": null,
   "id": "27b65326-26de-49bd-9b1a-d51767ae09ea",
   "metadata": {},
   "outputs": [],
   "source": [
    "from binance.enums import HistoricalKlinesType\n",
    "\n",
    "SYMBOL = 'BTCUSDT'\n",
    "INTERVAL = Client.KLINE_INTERVAL_1HOUR\n",
    "#INTERVAL = Client.KLINE_INTERVAL_1MINUTE\n",
    "#INTERVAL = Client.KLINE_INTERVAL_1DAY\n",
    "\n",
    "klines = client.get_historical_klines( \n",
    "    symbol=SYMBOL, \n",
    "    interval=INTERVAL, #\n",
    "    start_str=start_date.isoformat(),\n",
    "    end_str=end_date.isoformat(),\n",
    "    #end_str=None,\n",
    "    limit=1000,\n",
    "    klines_type=HistoricalKlinesType.SPOT\n",
    ")"
   ]
  },
  {
   "cell_type": "markdown",
   "id": "77b35a88-75e9-4d2d-b8cb-00e932c73d7d",
   "metadata": {},
   "source": [
    "### Interpretación de los datos\n",
    "\n",
    "Las series devueltas por la API de Binance contienen:\n",
    "\n",
    "- `open_time`: tiempo de apertura en UTC con precisión de milisegundos.\n",
    "- `close_time`: las criptomonedas no tienen un horario de mercado como otros instrumentos tradicionales -por ejemplo, de lunes a viernes de 9:30AM a 16:00PM-, por lo tanto en las series devueltas `close_time` siempre será igual a `open_time` + `INTERVAL`.\n",
    "- `open`: precio en apertura. En el caso de BTCUSDT, en U$S.\n",
    "- `high`: precio más alto.\n",
    "- `low`: precio más bajo. \n",
    "- `close`: precio al cierre. \n",
    "- `volume`: volumen, pero cómo se calcula?\n",
    "- `quote_asset_volume`: ???\n",
    "- `number_of_trades`: cantidad total de operaciones en el intervalo? Confirmar.\n",
    "- `taker_buy_base_asset_volume`: ???\n",
    "- `taker_buy_quote_asset_volume`: ???\n",
    "- `ignore`: ???"
   ]
  },
  {
   "cell_type": "code",
   "execution_count": null,
   "id": "72ab3891-1adb-47a2-b875-377a10464cbf",
   "metadata": {},
   "outputs": [],
   "source": [
    "def binance_klines_to_df(klines):\n",
    "    columns = [\n",
    "        'open_time', \n",
    "        'open', \n",
    "        'high', \n",
    "        'low', \n",
    "        'close', \n",
    "        'volume',\n",
    "        'close_time', \n",
    "        'quote_asset_volume', \n",
    "        'number_of_trades',\n",
    "        'taker_buy_base_asset_volume', \n",
    "        'taker_buy_quote_asset_volume',\n",
    "        'ignore'\n",
    "    ]\n",
    "\n",
    "    df = pd.DataFrame(klines, columns=columns)\n",
    "\n",
    "    # Convert dtypes\n",
    "    for x in [\"open_time\",\"close_time\"]:\n",
    "        df[x] = pd.to_datetime(df[x], unit='ms') - pd.Timedelta(hours=3)\n",
    "    df[\"close_time\"] = pd.to_datetime(df[\"close_time\"], unit='ms')\n",
    "    for x in [\"open\",\"close\",\"high\",\"low\",\"volume\"]:\n",
    "        df[x] = df[x].astype(float)\n",
    "    return df\n",
    "    \n",
    "df = binance_klines_to_df(klines)\n",
    "df = df.set_index(pd.DatetimeIndex(df['close_time']))\n",
    "df.head()"
   ]
  },
  {
   "cell_type": "markdown",
   "id": "9ecbf7c0-795a-4b88-b59b-c9b91708a413",
   "metadata": {},
   "source": [
    "### Gráfico OHLC o \"gráficos de velas\"\n",
    "\n",
    "Tienen origen en el [mercado japonés de arroz en el siglo 18](https://ninjatrader.com/es/blog/candlestick-charting-legend-of-munehisa-homma/). Representan gráficamente la información OHLC.\n",
    "\n",
    "<img src=\"https://www.researchgate.net/publication/352017050/figure/fig1/AS:1029759769268225@1622525269849/e-OHLC-candlestick-data-in-chart-and-comma-separated-value-CSV-representations.ppm\" />\n",
    "\n",
    "Cuando se representa la información de precios de esta manera, pueden aparecer patrones asociados a conductas del mercado. Ejemplo:\n",
    "\n",
    "<img src=\"https://f.hubspotusercontent10.net/hubfs/20705417/Imported_Blog_Media/CANDLESTICKQUICKGUIDE-Mar-18-2022-09-42-46-01-AM.png\"/>\n",
    "\n",
    "Fuente: https://www.tradingsim.com/\n",
    "\n",
    "Los patrones están asociados a \"estados del mercado\". Se suelen usar los términos \"bulls market\" y \"bears market\" para indicar una economía creciente o en deterioro, respectivamente.\n",
    "\n",
    "- **Bulls market**: período sostenido con alza de precios (meses o años). No hay una definición formal, pero a dedo gordo: 20% arriba, 20%, abajo, 20% arriba. \n",
    "    - Economía fuerte.\n",
    "    - Crecimiento de PIB.\n",
    "    - Incremento de beneficios de compañìas.\n",
    "    - Bajo desempleo.\n",
    "    - Aumento de consumo.\n",
    "- **Bears market**:\n",
    "    - Economía en deterioro.\n",
    "    - Baja de PIB.\n",
    "    - Recorte de compañìas.\n",
    "    - Aumento de desempleo."
   ]
  },
  {
   "cell_type": "code",
   "execution_count": null,
   "id": "f3f63330-7817-4656-9040-930258f4cd26",
   "metadata": {},
   "outputs": [],
   "source": [
    "import mplfinance as mpf"
   ]
  },
  {
   "cell_type": "code",
   "execution_count": null,
   "id": "5a548bc9-b204-4d03-ac89-e62444e862d4",
   "metadata": {},
   "outputs": [],
   "source": [
    "def convert_binance_df_to_mpf_df(df):\n",
    "    \"\"\" Matplotlib Finance espera un formato específico de Dataframe. \n",
    "    \"\"\"\n",
    "    df_converted = df.copy()\n",
    "    df_converted.rename(\n",
    "        columns = {\n",
    "            'close_time': 'Date', \n",
    "            'open':'Open', \n",
    "            'low':'Low', \n",
    "            'high':'High',\n",
    "            'close':'Close',\n",
    "            'volume':'Volume' }, inplace = True)    \n",
    "    df_converted.drop(\n",
    "        [\n",
    "            'open_time',\n",
    "            'quote_asset_volume',\n",
    "            'number_of_trades',\n",
    "            'taker_buy_base_asset_volume',\n",
    "            'taker_buy_quote_asset_volume',\n",
    "            'ignore'\n",
    "        ], axis=1,inplace=True)    \n",
    "    return df_converted"
   ]
  },
  {
   "cell_type": "markdown",
   "id": "98c9d7be-d996-4f08-98b4-f9795e45b3f8",
   "metadata": {},
   "source": [
    "Graficar con Matplotlib Finance."
   ]
  },
  {
   "cell_type": "code",
   "execution_count": null,
   "id": "6ca26850-e756-478a-ae96-d3173d9ed337",
   "metadata": {},
   "outputs": [],
   "source": [
    "df_converted = convert_binance_df_to_mpf_df(df)\n",
    "fig,axes = plt.subplots(2,1,figsize=(22,8))\n",
    "mpf.plot(df_converted,type='candle',mav=(3,6,9),volume=axes[1],ax=axes[0])\n",
    "#mpf.plot(df,type='line',mav=(3,6,9),volume=axes[1],ax=axes[0])\n",
    "#axes[0].axvline(x=pd.Timestamp('2022-06-30 22:40:00'))\n",
    "fig.tight_layout()"
   ]
  },
  {
   "cell_type": "markdown",
   "id": "8e111c7a-29cc-4505-8f33-5508c9c859c7",
   "metadata": {},
   "source": [
    "## Introducción al análisis técnico\n",
    "\n",
    "El análisis técnico parte del supuesto de que los movimientos de precios de un activo en el futuro pueden predecirse a partir de movimientos pasados porque el mercado tiene un comportamiento emocional que se refleja en las operaciones de compra y venta. \n",
    "\n",
    "Su objetivo es definir indicadores sobre el comportamiento del mercado, que pueden incluir:\n",
    "\n",
    "- Indicadores de [momento o aceleración](https://www.investopedia.com/terms/m/momentum.asp).\n",
    "- Indicadores de [volatilidad](https://www.investopedia.com/articles/financial-theory/08/volatility.asp).\n",
    "- Indicadores de [tendencia](https://www.investopedia.com/terms/t/trendanalysis.asp).\n",
    "- Indicadores de [volumen](https://www.investopedia.com/terms/v/volumeoftrade.asp).\n",
    "\n",
    "Por lo general, se usan estos indicadores para decidir si es conveniente realizar una operación de compra, venta, o esperar. \n",
    "\n",
    "**Supuestos**:\n",
    "\n",
    "1. Los precios no son totalmente aleatorios.\n",
    "2. Los precios actuales y futuros pueden explicarse parcialmente usando información pasada .\n",
    "3. Existen patrones que se repiten, que son el resultado de conductas de compradores y vendedores, en las que interviene la \"psicología del mercado\".\n",
    "    \n",
    "**Críticas**:\n",
    "\n",
    "1. Predomina la aleatoreidad en los precios en el corto y mediano plazo (*). Si hay aleatoreidad, no puede haber patrones. Referencias:\n",
    "    - https://web.williams.edu/Mathematics/sjmiller/public_html/341/handouts/Fama_RandomWalksStockPrices.pdf\n",
    "    - https://thescipub.com/pdf/jmssp.2010.342.346.pdf\n",
    "2. El precio actual de un bien es el resultado de una proyección a futuro de su utilidad. Por lo tanto, su valor estimado debe buscarse en el futuro, no en el pasado. Un ejemplo. El precio del Bitcoin depende de lo que se especula que valdrá en el futuro independientemente del valor que haya tenido antes. \n",
    "3. Existe un sesgo psicológico a favor de creer que existen patrones en las cosas, y que saber encontrarlos y manipularlos nos dá algún tipo de ventaja competitiva. No importa si las herramientas son [rústicas](https://economics.mit.edu/files/7258) o [modelos de deep learning avanzados](https://web.stanford.edu/class/archive/cs/cs224n/cs224n.1174/reports/2748739.pdf), en el fondo, confiamos en que existe una técnica que podemos llegar a utilizar que va a permitir explotar esos patrones.\n",
    "\n",
    "(*) No así en el largo plazo. Por ejemplo, es altamente probable que un bien o servicio escaso que tenga una demanda sostenida aumente su valor en el tiempo, o un bien o servicio se devalúe por obsolecencia, cambio cultural, etc.\n",
    "\n",
    "Fuente: https://www.youtube.com/watch?v=egjfIuvy6Uw"
   ]
  },
  {
   "cell_type": "markdown",
   "id": "07c49afa-8532-4812-8403-1aaccba554cd",
   "metadata": {},
   "source": [
    "### Cómputo y visualización de indicadores con Python Technical Analysis Library\n",
    "\n",
    "El módulo más completo y utilizado para análisis técnico en Python es [TA-lib](https://github.com/mrjbq7/ta-lib), pero por simplicidad en este caso se utiliza [Python Technical Analysis Library (ta)](https://github.com/bukosabino/ta), que se integra más fácilmente con Pandas. "
   ]
  },
  {
   "cell_type": "code",
   "execution_count": null,
   "id": "a42ce921-73cd-4a21-ac9a-49e97890e3d8",
   "metadata": {},
   "outputs": [],
   "source": [
    "#!conda install -c conda-forge ta-lib ta -y"
   ]
  },
  {
   "cell_type": "markdown",
   "id": "339a80fd-3c8e-480f-acd0-715cda04e072",
   "metadata": {},
   "source": [
    "Conversión de un dataframe al formato de Python Technical Analysis Library."
   ]
  },
  {
   "cell_type": "code",
   "execution_count": null,
   "id": "8aaafb40-8046-4828-abb5-c4ccba2f99cf",
   "metadata": {},
   "outputs": [],
   "source": [
    "from ta import add_all_ta_features\n",
    "from ta.utils import dropna\n",
    "\n",
    "def convert_binance_df_to_ta_df(df):\n",
    "    df_converted = df.copy()\n",
    "    df_converted = dropna(df_converted)    \n",
    "    df_converted=df_converted.reset_index(drop=True)\n",
    "    df_converted.rename(\n",
    "        columns={\n",
    "            \"open\": \"Open\",\n",
    "            \"close\":\"Close\",\n",
    "            \"high\": \"High\",\n",
    "            \"low\": \"Low\",\n",
    "            \"close\": \"Close\",\n",
    "            \"volume\": \"Volume\"\n",
    "        },inplace=True\n",
    "    )        \n",
    "    df_converted.drop(\n",
    "            [\n",
    "                'open_time',\n",
    "                'quote_asset_volume',\n",
    "                'number_of_trades',\n",
    "                'taker_buy_base_asset_volume',\n",
    "                'taker_buy_quote_asset_volume',\n",
    "                'ignore'\n",
    "            ], axis=1,inplace=True)    \n",
    "    df_converted['Timestamp'] = df_converted['close_time'].astype(int) / int(1e9)   \n",
    "    df_converted['Timestamp'] = df_converted['Timestamp'].astype(int)\n",
    "    #df_converted = df_converted.set_index(pd.RangeIndex(int(df_converted['Timestamp'])))\n",
    "    #df_converted.drop([\"Timestamp\"],inplace=True)\n",
    "    return df_converted"
   ]
  },
  {
   "cell_type": "markdown",
   "id": "b2b33930-281e-4e20-b49c-b6dccc0f851e",
   "metadata": {},
   "source": [
    "Generación de todos los indicadores."
   ]
  },
  {
   "cell_type": "code",
   "execution_count": null,
   "id": "f13b2313-7984-442e-a4b2-8973d10dbf31",
   "metadata": {},
   "outputs": [],
   "source": [
    "df_ta = convert_binance_df_to_ta_df(df)\n",
    "df_ta = add_all_ta_features(df_ta, open=\"Open\", high=\"High\", low=\"Low\", close=\"Close\", volume=\"Volume\")\n",
    "df_ta.tail()"
   ]
  },
  {
   "cell_type": "markdown",
   "id": "f4b657c9-7750-4d46-8dd9-d58d4d3504d0",
   "metadata": {},
   "source": [
    "### Indicadores de volatilidad"
   ]
  },
  {
   "cell_type": "markdown",
   "id": "08994895-7c92-4737-b4a5-bef44e929716",
   "metadata": {},
   "source": [
    "#### Bandas de Bollinger\n",
    "\n",
    "Fuente: [Bandas de Bollinger en Wikipedia](https://es.wikipedia.org/wiki/Bandas_de_Bollinger)"
   ]
  },
  {
   "cell_type": "code",
   "execution_count": null,
   "id": "fbdad495-94b1-49a7-b574-59c1c64905b7",
   "metadata": {},
   "outputs": [],
   "source": [
    "fig,axes = plt.subplots(1,1,figsize=(22,6))\n",
    "axes.plot(df_ta.close_time, df_ta.Close,color=\"blue\")\n",
    "axes.plot(df_ta.close_time, df_ta.volatility_bbh,color=\"green\")\n",
    "axes.plot(df_ta.close_time, df_ta.volatility_bbm,color=\"orange\")\n",
    "axes.plot(df_ta.close_time, df_ta.volatility_bbl,color=\"red\")\n",
    "axes.legend([\"Precio al cierre\", \"BB alta\", \"BB media\", \"BB baja\"])\n",
    "axes.set_ylabel(\"Precio (U$S)\")\n",
    "axes.set_xlabel(\"Fecha\")\n",
    "axes.set_title(f\"Bandas de Bollinger\");"
   ]
  },
  {
   "cell_type": "markdown",
   "id": "824a412b-d416-4a70-a3cb-ba2e36fbd6f0",
   "metadata": {},
   "source": [
    "#### Canal de Keltner\n",
    "\n",
    "Fuente: [Canal de Keltner en Wikipedia](https://en.wikipedia.org/wiki/Keltner_channel)"
   ]
  },
  {
   "cell_type": "code",
   "execution_count": null,
   "id": "24645d43-cd46-4fdb-8a08-e8d3e9e2e66e",
   "metadata": {},
   "outputs": [],
   "source": [
    "fig,axes = plt.subplots(1,1,figsize=(22,6))\n",
    "axes.plot(df_ta.close_time, df_ta.Close,color=\"blue\")\n",
    "axes.plot(df_ta.close_time, df_ta.volatility_kcc,color=\"orange\")\n",
    "axes.plot(df_ta.close_time, df_ta.volatility_kch,color=\"green\")\n",
    "axes.plot(df_ta.close_time, df_ta.volatility_kcl,color=\"red\")\n",
    "axes.legend([\"Precio al cierre\", \"KC central\", \"KC alto\", \"KC bajo\"])\n",
    "axes.set_ylabel(\"Precio (U$S)\")\n",
    "axes.set_xlabel(\"Fecha\")\n",
    "axes.set_title(f\"Canal de Keltner\");"
   ]
  },
  {
   "cell_type": "markdown",
   "id": "6f160471-beba-4aef-b8ad-08b0513a53ae",
   "metadata": {},
   "source": [
    "#### Canal de Donchian\n",
    "\n",
    "Fuente: [Canal de Donchian en Wikipedia](https://en.wikipedia.org/wiki/Donchian_channel)"
   ]
  },
  {
   "cell_type": "code",
   "execution_count": null,
   "id": "beac6373-79aa-4302-a12a-1b472da69b2f",
   "metadata": {},
   "outputs": [],
   "source": [
    "fig,axes = plt.subplots(1,1,figsize=(22,6))\n",
    "axes.plot(df_ta.close_time, df_ta.Close,color=\"blue\")\n",
    "axes.plot(df_ta.close_time, df_ta.volatility_dch,color=\"green\")\n",
    "axes.plot(df_ta.close_time, df_ta.volatility_dcl,color=\"red\")\n",
    "axes.legend([\"Precio al cierre\", \"DC alto\", \"DC bajo\"])\n",
    "axes.set_ylabel(\"Precio (U$S)\")\n",
    "axes.set_xlabel(\"Fecha\")\n",
    "axes.set_title(f\"Canal de Donchian\");"
   ]
  },
  {
   "cell_type": "markdown",
   "id": "f361b3d2-815e-4117-b53c-4a48ac1bf715",
   "metadata": {},
   "source": [
    "### Indicadores de tendencia"
   ]
  },
  {
   "cell_type": "markdown",
   "id": "97c67357-4ffb-46b3-b8bd-f8958451081d",
   "metadata": {},
   "source": [
    "#### Indicador de Media Móvil de Convergencia/Divergencia (MACD)\n",
    "\n",
    "\n",
    "Fuente: [MACD en Wikipedia](https://es.wikipedia.org/wiki/MACD)"
   ]
  },
  {
   "cell_type": "code",
   "execution_count": null,
   "id": "9d51c212-a8ec-4f6a-badc-2cb4d58c0e3a",
   "metadata": {},
   "outputs": [],
   "source": [
    "fig,axes = plt.subplots(1,1,figsize=(22,6))\n",
    "axes.plot(df_ta.close_time, df_ta.trend_macd,color=\"blue\")\n",
    "axes.plot(df_ta.close_time, df_ta.trend_macd_signal,color=\"red\")\n",
    "axes.plot(df_ta.close_time, df_ta.trend_macd_diff,color=\"green\")\n",
    "axes.legend([\"MACD\", \"Señal de MACD\", \"Diferencia de MACD\"])\n",
    "#axes.set_ylabel(\"Precio (U$S)\")\n",
    "axes.set_xlabel(\"Fecha\")\n",
    "axes.set_title(f\"MACD, señal de MACD y diferencia de MACD\");"
   ]
  },
  {
   "cell_type": "markdown",
   "id": "4861cbba-486d-4ff1-895f-1fba3b4ac4c9",
   "metadata": {},
   "source": [
    "#### Know Sure Thing (KST)"
   ]
  },
  {
   "cell_type": "code",
   "execution_count": null,
   "id": "bd7e01e5-f445-4b59-8d22-89ea341d6496",
   "metadata": {},
   "outputs": [],
   "source": [
    "fig,axes = plt.subplots(1,1,figsize=(22,6))\n",
    "axes.plot(df_ta.close_time, df_ta.trend_kst,color=\"blue\")\n",
    "axes.plot(df_ta.close_time, df_ta.trend_kst_sig,color=\"red\")\n",
    "axes.plot(df_ta.close_time, df_ta.trend_kst_diff,color=\"green\")\n",
    "axes.legend([\"KST\", \"Señal de KST\", \"Diferencia de KST\"])\n",
    "#axes.set_ylabel(\"Precio (U$S)\")\n",
    "axes.set_xlabel(\"Fecha\")\n",
    "axes.set_title(f\"Know Sure Thing (KST)\");"
   ]
  },
  {
   "cell_type": "markdown",
   "id": "3cb178fb-ad42-4a62-b5c9-9455d86d281d",
   "metadata": {},
   "source": [
    "#### Ichimoku Kinkō Hyō"
   ]
  },
  {
   "cell_type": "code",
   "execution_count": null,
   "id": "f1d8513e-cdea-4c4e-8b55-98aa866eee2a",
   "metadata": {},
   "outputs": [],
   "source": [
    "fig,axes = plt.subplots(1,1,figsize=(22,6))\n",
    "axes.plot(df_ta.close_time, df_ta.Close,color=\"blue\")\n",
    "axes.plot(df_ta.close_time, df_ta.trend_ichimoku_a,color=\"green\")\n",
    "axes.plot(df_ta.close_time, df_ta.trend_ichimoku_b,color=\"red\")\n",
    "axes.legend([\"Precio al cierre\", \"'Ichimoku A\", \"Ichimoku B\"])\n",
    "axes.set_ylabel(\"Precio (U$S)\")\n",
    "axes.set_xlabel(\"Fecha\")\n",
    "axes.set_title(\"Ichimoku Kinko Hyo\");"
   ]
  }
 ],
 "metadata": {
  "kernelspec": {
   "display_name": "Python 3",
   "language": "python",
   "name": "python3"
  },
  "language_info": {
   "codemirror_mode": {
    "name": "ipython",
    "version": 3
   },
   "file_extension": ".py",
   "mimetype": "text/x-python",
   "name": "python",
   "nbconvert_exporter": "python",
   "pygments_lexer": "ipython3",
   "version": "3.8.8"
  }
 },
 "nbformat": 4,
 "nbformat_minor": 5
}
